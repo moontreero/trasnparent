{
 "cells": [
  {
   "cell_type": "markdown",
   "id": "eb09e185",
   "metadata": {},
   "source": [
    "<h1>Transparent Conducting Oxides<h1>"
   ]
  },
  {
   "cell_type": "code",
   "execution_count": 1,
   "id": "c8f62253",
   "metadata": {
    "scrolled": true
   },
   "outputs": [],
   "source": [
    "from ipywidgets import interactive\n",
    "import matplotlib.pyplot as plt\n",
    "import numpy as np\n",
    "#import math\n",
    "j = complex(0,1)\n",
    "wl= np.arange(300.0, 2001.0, 1.0) #<---Wavelengths in interval: 300 to 2001 nm\n",
    "l= len(wl)"
   ]
  },
  {
   "cell_type": "markdown",
   "id": "1e2fe351",
   "metadata": {},
   "source": [
    "<font size = '4'> According to the Drude Model, the frequency-dependent resistivity $\\rho$ is given by:\n",
    "\n",
    "$\\rho(\\omega) = \\frac{1}{\\varepsilon_0\\omega_p^2\\tau} - i\\frac{\\omega}{\\varepsilon_0\\omega_p^2}$\n",
    "    \n",
    "<br />    \n",
    "being $\\omega_p = \\sqrt{\\frac{Nq_e^2}{\\varepsilon_0m^\\ast}}$ the plasma frequency, $\\varepsilon_0$ the electric permittivity of the free space, $\\tau$ the relaxation time and $\\omega$ the angular frequency.\n",
    "    \n",
    "Thus, we can calculate the dielectric function as:\n",
    "\n",
    "$\\varepsilon(\\omega)=\\varepsilon_{\\infty} + \\frac{i}{\\epsilon_0\\omega\\rho(\\omega)}$ \n",
    "    \n",
    "being $\\varepsilon_\\infty$ the high frequency dielectric constant.\n",
    "    \n",
    "Remember that the real $n$ and imaginary $k$ components of the refractive index can be obtained from $\\varepsilon$:\n",
    "    \n",
    " $n = \\sqrt{\\frac{\\mid \\varepsilon \\mid + \\varepsilon_r}{2}}$\n",
    "    \n",
    " $k = \\sqrt{\\frac{\\mid \\varepsilon \\mid - \\varepsilon_r}{2}}$"
   ]
  },
  {
   "cell_type": "code",
   "execution_count": 2,
   "id": "83e0e201",
   "metadata": {
    "scrolled": true
   },
   "outputs": [],
   "source": [
    "e0 = 8.854e-12 #Fm-1 Electric permittivity of free space\n",
    "qe =1.6022e-19 #C Electron charge\n",
    "me = 9.109e-31 #kg Rest mass of electron\n",
    "c= 3e17 #nm/s Speed of light"
   ]
  },
  {
   "cell_type": "markdown",
   "id": "ef1c00e8",
   "metadata": {},
   "source": [
    "<font size = \"4\"> We can assume $\\varepsilon_\\infty = 4$ and $m^\\ast = 0.4m_e$ in a typical transparent conducting oxide."
   ]
  },
  {
   "cell_type": "code",
   "execution_count": 3,
   "id": "5b50f9d1",
   "metadata": {
    "scrolled": true
   },
   "outputs": [],
   "source": [
    "einf= 4 #Dielectric background\n",
    "mast= 0.4*me #Efective mass\n"
   ]
  },
  {
   "cell_type": "markdown",
   "id": "7a8de1bf",
   "metadata": {},
   "source": [
    "<font size = \"4\">  We define an interactive function. The inputs are $N$ ( in m$^{-3}$) and $\\tau$ ( in fs ) and the thickness of the transparent conducting film $d$ ( in nm )."
   ]
  },
  {
   "cell_type": "code",
   "execution_count": 4,
   "id": "cfe8e7c2",
   "metadata": {
    "scrolled": true
   },
   "outputs": [],
   "source": [
    "def f(N, t, d):\n",
    "\tplt.figure(1)\n",
    "\ttau = t*1e-15\n",
    "\twp = (N*qe**2/(e0*mast))**(0.5)\n",
    "\tlp = 2*np.pi*c/wp\n",
    "\trho = 1/(e0*wp**2*tau) - j*(2*np.pi*c/wl)/(e0*wp**2) #2*math.pi*c/wl = angular frecquency (wl is wavelenght)\n",
    "\trhodc = 1/(e0*wp**2*tau)\n",
    "\te = einf + j/(e0*(2*np.pi*c/wl)*rho) \n",
    "\tn  = ((abs(e)+e.real)/2)**0.5\n",
    "\tk = ((abs(e)-e.real)/2)**0.5\n",
    "\tplt.plot(wl, n, label='n')\n",
    "\tplt.plot(wl, k, label='k')\n",
    "\tplt.xlabel(\"$\\lambda$ (nm)\", fontsize=15)\n",
    "\tplt.ylabel(\"n, k\", fontsize=15) \n",
    "\tplt.legend(loc='upper center', fontsize= 15,frameon=False) \n",
    "\tplt.show()\n",
    "\tplt.figure(2)\n",
    "\tN1 = np.array([complex(1,0.0)]) #assume air\n",
    "\tN2 = n+ j*k # n and k from Drude\n",
    "\tN3 = np.array([complex(1.5,0.0)])#assume glass\n",
    "\tdelta= -(2.0*np.pi/wl)*N2*d\n",
    "\tr1= (N1-N2)/(N1+N2)\n",
    "\tr2= (N2-N3)/(N2+N3)\n",
    "\tt1 = 2*N1/(N1+N2)\n",
    "\tt2 = 2*N2/(N2+N3)\n",
    "\tr =(r1+r2*np.exp(-2*j*delta))/(np.array([1]*l)+r1*r2*np.exp(-2*j*delta))\n",
    "\tt =(t1*t2*np.exp(-j*delta))/(1+r1*r2*np.exp(-2*j*delta)) \n",
    "\tR = abs(r)*abs(r)*100\n",
    "\tT = (N3.real/N1.real)*abs(t)*abs(t)*100\n",
    "\tplt.plot(wl, R, label='R')\n",
    "\tplt.plot(wl, T, label='T')\n",
    "\tplt.plot(wl, 100-T-R, label='A')\n",
    "\tplt.ylim([0.0, 100.0])\n",
    "\tplt.xlabel(\"$\\lambda$ (nm)\", fontsize=15)\n",
    "\tplt.ylabel(\"T,R,A\", fontsize=15) \n",
    "\tplt.legend(loc='upper center', fontsize= 15,frameon=False) \n",
    "\tplt.show()\n",
    "\tprint('Plasma wavelenght =  ' + str(round(lp,2)) + ' nm' + '\\n')\n",
    "\tprint('Resistivity DC =  ' + str(round(rhodc,10)) + ' Ohm.m')"
   ]
  },
  {
   "cell_type": "code",
   "execution_count": 5,
   "id": "66a7cc8c",
   "metadata": {
    "scrolled": false
   },
   "outputs": [
    {
     "data": {
      "application/vnd.jupyter.widget-view+json": {
       "model_id": "41fe86388d534d549a701d260f7b51b2",
       "version_major": 2,
       "version_minor": 0
      },
      "text/plain": [
       "interactive(children=(FloatSlider(value=1.5e+27, description='N', max=3e+27, min=1e+26, step=1e+26), FloatSlid…"
      ]
     },
     "execution_count": 5,
     "metadata": {},
     "output_type": "execute_result"
    }
   ],
   "source": [
    "interactive_plot = interactive(f, N=(1e26,30e26, 1e26), t=(1,5,0.5), d =(100,500,50))\n",
    "output = interactive_plot.children[-1]\n",
    "output.layout.height = '950px'\n",
    "interactive_plot "
   ]
  },
  {
   "cell_type": "code",
   "execution_count": null,
   "id": "e3f85ec7",
   "metadata": {
    "scrolled": true
   },
   "outputs": [],
   "source": []
  }
 ],
 "metadata": {
  "kernelspec": {
   "display_name": "Python 3 (ipykernel)",
   "language": "python",
   "name": "python3"
  },
  "language_info": {
   "codemirror_mode": {
    "name": "ipython",
    "version": 3
   },
   "file_extension": ".py",
   "mimetype": "text/x-python",
   "name": "python",
   "nbconvert_exporter": "python",
   "pygments_lexer": "ipython3",
   "version": "3.9.5"
  }
 },
 "nbformat": 4,
 "nbformat_minor": 5
}
